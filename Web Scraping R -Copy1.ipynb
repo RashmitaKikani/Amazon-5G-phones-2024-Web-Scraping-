{
 "cells": [
  {
   "cell_type": "markdown",
   "id": "7805a223",
   "metadata": {},
   "source": [
    "### \"Scrap latest 5G mobilephone data in csv (Model name, Price, Average Rating, Total Ratings etc.)\n",
    "#### Use Amazon\n",
    "#### https://www.amazon.in/s?k=latest+5g+mobile+phone+2024&crid=368N90HWA1FIQ&sprefix=late%2Caps%2C212&ref=nb_sb_ss_ts-doa-p_1_4\"\n"
   ]
  },
  {
   "cell_type": "code",
   "execution_count": 22,
   "id": "a138747a",
   "metadata": {},
   "outputs": [
    {
     "name": "stdout",
     "output_type": "stream",
     "text": [
      "Requirement already satisfied: bs4 in c:\\users\\urvashi\\anaconda3\\lib\\site-packages (0.0.2)\n",
      "Requirement already satisfied: beautifulsoup4 in c:\\users\\urvashi\\anaconda3\\lib\\site-packages (from bs4) (4.12.3)\n",
      "Requirement already satisfied: soupsieve>1.2 in c:\\users\\urvashi\\anaconda3\\lib\\site-packages (from beautifulsoup4->bs4) (2.5)\n"
     ]
    }
   ],
   "source": [
    "!pip install bs4"
   ]
  },
  {
   "cell_type": "code",
   "execution_count": 23,
   "id": "9fba104a",
   "metadata": {},
   "outputs": [
    {
     "name": "stdout",
     "output_type": "stream",
     "text": [
      "Requirement already satisfied: requests in c:\\users\\urvashi\\anaconda3\\lib\\site-packages (2.32.2)\n",
      "Requirement already satisfied: charset-normalizer<4,>=2 in c:\\users\\urvashi\\anaconda3\\lib\\site-packages (from requests) (2.0.4)\n",
      "Requirement already satisfied: idna<4,>=2.5 in c:\\users\\urvashi\\anaconda3\\lib\\site-packages (from requests) (3.7)\n",
      "Requirement already satisfied: urllib3<3,>=1.21.1 in c:\\users\\urvashi\\anaconda3\\lib\\site-packages (from requests) (2.2.2)\n",
      "Requirement already satisfied: certifi>=2017.4.17 in c:\\users\\urvashi\\anaconda3\\lib\\site-packages (from requests) (2024.6.2)\n"
     ]
    }
   ],
   "source": [
    "!pip install requests"
   ]
  },
  {
   "cell_type": "code",
   "execution_count": 28,
   "id": "f9e47d4f-1309-4bb1-b1d5-a62da4005ec9",
   "metadata": {},
   "outputs": [
    {
     "name": "stdout",
     "output_type": "stream",
     "text": [
      "Scraping page 1...\n",
      "Scraping page 2...\n",
      "Scraping page 3...\n",
      "Scraping page 4...\n",
      "Scraping page 5...\n",
      "Scraping page 6...\n",
      "Scraping page 7...\n",
      "Scraping page 8...\n",
      "Scraping page 9...\n",
      "Scraping page 10...\n",
      "Scraping page 11...\n",
      "Scraping page 12...\n",
      "Scraping page 13...\n",
      "Scraping page 14...\n",
      "Scraping page 15...\n",
      "Scraping page 16...\n",
      "Scraping page 17...\n",
      "Scraping page 18...\n",
      "Scraping page 19...\n",
      "                                        Product Name          Avg_Rating  \\\n",
      "0  Samsung Galaxy M15 5G Prime Edition (Stone Gre...  3.9 out of 5 stars   \n",
      "1  OnePlus 13R| Smarter with OnePlus AI (12GB RAM...           No Rating   \n",
      "2  OnePlus Nord CE4 Lite 5G (Super Silver, 8GB RA...  4.1 out of 5 stars   \n",
      "3  OnePlus Nord CE4 Lite 5G (Super Silver, 8GB RA...  4.1 out of 5 stars   \n",
      "4  realme NARZO 70x 5G (Ice Blue, 8GB RAM,128GB S...  4.1 out of 5 stars   \n",
      "\n",
      "       Total_Ratings   Price  \n",
      "0              1,674  11,999  \n",
      "1  No Average Rating  42,998  \n",
      "2              4,116  20,998  \n",
      "3              4,116  17,998  \n",
      "4              4,486  11,498  \n"
     ]
    }
   ],
   "source": [
    "import requests\n",
    "from bs4 import BeautifulSoup\n",
    "import pandas as pd\n",
    " \n",
    "# Base URL for Amazon search results\n",
    "base_url = 'https://www.amazon.in/s?k=latest+5g+mobile+phone+2024&crid=368N90HWA1FIQ&sprefix=late%2Caps%2C212&ref=nb_sb_ss_ts-doa-p_1_4\"'\n",
    " \n",
    "# Set headers to mimic a browser request\n",
    "headers = {\n",
    "    'User-Agent': 'Mozilla/5.0 (Macintosh; Intel Mac OS X 10_15_7) AppleWebKit/537.36 (KHTML, like Gecko) Chrome/91.0.4472.124 Safari/537.36'\n",
    "}\n",
    " \n",
    "# Initialize lists to store extracted data\n",
    "names = []\n",
    "ratings = []\n",
    "avg_ratings = []\n",
    "prices = []\n",
    " \n",
    "# Loop through multiple pages (e.g., first 5 pages)\n",
    "for page in range(1, 20):  # Adjust the range for more pages\n",
    "    print(f\"Scraping page {page}...\")\n",
    "    # Construct the URL for the current page\n",
    "    url = base_url.format(page)\n",
    "    # Send a GET request to the URL\n",
    "    response = requests.get(url, headers=headers)\n",
    "    soup = BeautifulSoup(response.content, 'html.parser')\n",
    "    # Find all the product details\n",
    "    products = soup.find_all('div', {'data-component-type': 's-search-result'})\n",
    "    # Extract product details for each product\n",
    "    for product in products:\n",
    "        # Product Name\n",
    "        name = product.h2.text.strip()\n",
    "        names.append(name)\n",
    "        # Rating (if available)\n",
    "        rating = product.find('span', {'class': 'a-icon-alt'})\n",
    "        if rating:\n",
    "            ratings.append(rating.text.strip())\n",
    "        else:\n",
    "            ratings.append('No Rating')\n",
    "        # Average Rating\n",
    "        avg_rating = product.find('span', {'class': 'a-size-base s-underline-text'})\n",
    "        if avg_rating:\n",
    "            avg_ratings.append(avg_rating.text.strip())\n",
    "        else:\n",
    "            avg_ratings.append('No Average Rating')\n",
    "        # Price (if available)\n",
    "        price = product.find('span', {'class': 'a-price-whole'})\n",
    "        if price:\n",
    "            prices.append(price.text.strip())\n",
    "        else:\n",
    "            prices.append('Price Not Available')\n",
    " \n",
    "# Create a dataframe from the extracted data\n",
    "df = pd.DataFrame({\n",
    "    'Product Name': names,\n",
    "    'Avg_Rating': ratings,\n",
    "    'Total_Ratings': avg_ratings,\n",
    "    'Price': prices\n",
    "})\n",
    " \n",
    "# Display the dataframe\n",
    "print(df.head())"
   ]
  },
  {
   "cell_type": "code",
   "execution_count": 26,
   "id": "c4d9692a-f718-4e33-a4d9-a52321956e5c",
   "metadata": {},
   "outputs": [],
   "source": [
    "df.to_csv('updated_amazon1_5g_phones.csv')"
   ]
  },
  {
   "cell_type": "markdown",
   "id": "ecf6a9fb-6dae-487a-916b-f683677157aa",
   "metadata": {},
   "source": [
    "### Analyzing Best out of Best"
   ]
  },
  {
   "cell_type": "code",
   "execution_count": 24,
   "id": "6919eddb",
   "metadata": {
    "scrolled": true
   },
   "outputs": [
    {
     "data": {
      "text/html": [
       "<div>\n",
       "<style scoped>\n",
       "    .dataframe tbody tr th:only-of-type {\n",
       "        vertical-align: middle;\n",
       "    }\n",
       "\n",
       "    .dataframe tbody tr th {\n",
       "        vertical-align: top;\n",
       "    }\n",
       "\n",
       "    .dataframe thead th {\n",
       "        text-align: right;\n",
       "    }\n",
       "</style>\n",
       "<table border=\"1\" class=\"dataframe\">\n",
       "  <thead>\n",
       "    <tr style=\"text-align: right;\">\n",
       "      <th></th>\n",
       "      <th>Product Name</th>\n",
       "      <th>Rating</th>\n",
       "      <th>Average Rating</th>\n",
       "      <th>Price</th>\n",
       "    </tr>\n",
       "  </thead>\n",
       "  <tbody>\n",
       "    <tr>\n",
       "      <th>0</th>\n",
       "      <td>Samsung Galaxy M15 5G Prime Edition (Stone Gre...</td>\n",
       "      <td>3.9 out of 5 stars</td>\n",
       "      <td>1,643</td>\n",
       "      <td>11,999</td>\n",
       "    </tr>\n",
       "    <tr>\n",
       "      <th>1</th>\n",
       "      <td>Samsung Galaxy M35 5G (Thunder Grey,8GB RAM,25...</td>\n",
       "      <td>4.1 out of 5 stars</td>\n",
       "      <td>6,196</td>\n",
       "      <td>19,499</td>\n",
       "    </tr>\n",
       "    <tr>\n",
       "      <th>2</th>\n",
       "      <td>OnePlus Nord CE4 Lite 5G (Super Silver, 8GB RA...</td>\n",
       "      <td>4.1 out of 5 stars</td>\n",
       "      <td>4,101</td>\n",
       "      <td>20,998</td>\n",
       "    </tr>\n",
       "    <tr>\n",
       "      <th>3</th>\n",
       "      <td>OnePlus Nord CE4 Lite 5G (Super Silver, 8GB RA...</td>\n",
       "      <td>4.1 out of 5 stars</td>\n",
       "      <td>4,101</td>\n",
       "      <td>17,998</td>\n",
       "    </tr>\n",
       "    <tr>\n",
       "      <th>4</th>\n",
       "      <td>Samsung Galaxy M35 5G (Daybreak Blue,8GB RAM,2...</td>\n",
       "      <td>4.1 out of 5 stars</td>\n",
       "      <td>6,196</td>\n",
       "      <td>19,499</td>\n",
       "    </tr>\n",
       "  </tbody>\n",
       "</table>\n",
       "</div>"
      ],
      "text/plain": [
       "                                        Product Name              Rating  \\\n",
       "0  Samsung Galaxy M15 5G Prime Edition (Stone Gre...  3.9 out of 5 stars   \n",
       "1  Samsung Galaxy M35 5G (Thunder Grey,8GB RAM,25...  4.1 out of 5 stars   \n",
       "2  OnePlus Nord CE4 Lite 5G (Super Silver, 8GB RA...  4.1 out of 5 stars   \n",
       "3  OnePlus Nord CE4 Lite 5G (Super Silver, 8GB RA...  4.1 out of 5 stars   \n",
       "4  Samsung Galaxy M35 5G (Daybreak Blue,8GB RAM,2...  4.1 out of 5 stars   \n",
       "\n",
       "  Average Rating   Price  \n",
       "0          1,643  11,999  \n",
       "1          6,196  19,499  \n",
       "2          4,101  20,998  \n",
       "3          4,101  17,998  \n",
       "4          6,196  19,499  "
      ]
     },
     "execution_count": 24,
     "metadata": {},
     "output_type": "execute_result"
    }
   ],
   "source": [
    " # Base URL for Amazon search results\n",
    "base_url = 'https://www.amazon.in/s?k=latest+5g+mobile+phone+2024&crid=368N90HWA1FIQ&sprefix=late%2Caps%2C212&ref=nb_sb_ss_ts-doa-p_1_4\"'\n",
    " \n",
    "# Set headers to mimic a browser request\n",
    "headers = {\n",
    "    'User-Agent': 'Mozilla/5.0 (Macintosh; Intel Mac OS X 10_15_7) AppleWebKit/537.36 (KHTML, like Gecko) Chrome/91.0.4472.124 Safari/537.36'\n",
    "}\n",
    " \n",
    "# Initialize lists to store extracted data\n",
    "names = []\n",
    "ratings = []\n",
    "avg_ratings = []\n",
    "prices = []\n",
    " \n",
    "# Loop through multiple pages (e.g., first 5 pages)\n",
    "for page in range(1):  # Adjust the range for more pages\n",
    "    print(f\"Scraping page {page}...\")\n",
    "    # Construct the URL for the current page\n",
    "    url = base_url.format(page)\n",
    "    # Send a GET request to the URL\n",
    "    response = requests.get(url, headers=headers)\n",
    "    soup = BeautifulSoup(response.content, 'html.parser')\n",
    "    # Find all the product details\n",
    "    products = soup.find_all('div', {'data-component-type': 's-search-result'})\n",
    "    # Extract product details for each product\n",
    "    for product in products:\n",
    "        # Product Name\n",
    "        name = product.h2.text.strip()\n",
    "        names.append(name)\n",
    "        # Rating (if available)\n",
    "        rating = product.find('span', {'class': 'a-icon-alt'})\n",
    "        if rating:\n",
    "            ratings.append(rating.text.strip())\n",
    "        else:\n",
    "            ratings.append('No Rating')\n",
    "        # Average Rating\n",
    "        avg_rating = product.find('span', {'class': 'a-size-base s-underline-text'})\n",
    "        if avg_rating:\n",
    "            avg_ratings.append(avg_rating.text.strip())\n",
    "        else:\n",
    "            avg_ratings.append('No Average Rating')\n",
    "        # Price (if available)\n",
    "        price = product.find('span', {'class': 'a-price-whole'})\n",
    "        if price:\n",
    "            prices.append(price.text.strip())\n",
    "        else:\n",
    "            prices.append('Price Not Available')\n",
    " \n",
    "# Create a dataframe from the extracted data\n",
    "df = pd.DataFrame({\n",
    "    'Product Name': names,\n",
    "    'Rating': ratings,\n",
    "    'Average Rating': avg_ratings,\n",
    "    'Price': prices})\n",
    "df.head()  "
   ]
  },
  {
   "cell_type": "code",
   "execution_count": 28,
   "id": "366b4a7d",
   "metadata": {},
   "outputs": [],
   "source": [
    "df.to_csv(r'Amazon_5G_Mobile.csv')"
   ]
  },
  {
   "cell_type": "code",
   "execution_count": 62,
   "id": "c581f36c",
   "metadata": {},
   "outputs": [],
   "source": [
    "df=pd.read_csv(\"C:\\\\Users\\\\URVASHI\\\\Downloads\\\\Amazon_5G_Mobile.csv\")"
   ]
  },
  {
   "cell_type": "code",
   "execution_count": 65,
   "id": "44ddd677",
   "metadata": {
    "scrolled": true
   },
   "outputs": [
    {
     "data": {
      "text/html": [
       "<div>\n",
       "<style scoped>\n",
       "    .dataframe tbody tr th:only-of-type {\n",
       "        vertical-align: middle;\n",
       "    }\n",
       "\n",
       "    .dataframe tbody tr th {\n",
       "        vertical-align: top;\n",
       "    }\n",
       "\n",
       "    .dataframe thead th {\n",
       "        text-align: right;\n",
       "    }\n",
       "</style>\n",
       "<table border=\"1\" class=\"dataframe\">\n",
       "  <thead>\n",
       "    <tr style=\"text-align: right;\">\n",
       "      <th></th>\n",
       "      <th>Product Name</th>\n",
       "      <th>Rating</th>\n",
       "      <th>Average Rating</th>\n",
       "      <th>Price</th>\n",
       "    </tr>\n",
       "  </thead>\n",
       "  <tbody>\n",
       "    <tr>\n",
       "      <th>0</th>\n",
       "      <td>Redmi A4 5G (Starry Black, 4GB RAM, 64GB Stora...</td>\n",
       "      <td>4.0 out of 5 stars</td>\n",
       "      <td>665</td>\n",
       "      <td>8,299</td>\n",
       "    </tr>\n",
       "    <tr>\n",
       "      <th>1</th>\n",
       "      <td>Samsung Galaxy S24 5G AI Smartphone (Amber Yel...</td>\n",
       "      <td>4.0 out of 5 stars</td>\n",
       "      <td>468</td>\n",
       "      <td>56,499</td>\n",
       "    </tr>\n",
       "    <tr>\n",
       "      <th>2</th>\n",
       "      <td>OnePlus Nord CE4 Lite 5G (Super Silver, 8GB RA...</td>\n",
       "      <td>4.1 out of 5 stars</td>\n",
       "      <td>4,087</td>\n",
       "      <td>17,998</td>\n",
       "    </tr>\n",
       "    <tr>\n",
       "      <th>3</th>\n",
       "      <td>Samsung Galaxy M15 5G Prime Edition (Blue Topa...</td>\n",
       "      <td>3.9 out of 5 stars</td>\n",
       "      <td>1,627</td>\n",
       "      <td>11,999</td>\n",
       "    </tr>\n",
       "    <tr>\n",
       "      <th>4</th>\n",
       "      <td>OnePlus Nord CE4 Lite 5G (Super Silver, 8GB RA...</td>\n",
       "      <td>4.1 out of 5 stars</td>\n",
       "      <td>4,087</td>\n",
       "      <td>20,998</td>\n",
       "    </tr>\n",
       "  </tbody>\n",
       "</table>\n",
       "</div>"
      ],
      "text/plain": [
       "                                        Product Name              Rating  \\\n",
       "0  Redmi A4 5G (Starry Black, 4GB RAM, 64GB Stora...  4.0 out of 5 stars   \n",
       "1  Samsung Galaxy S24 5G AI Smartphone (Amber Yel...  4.0 out of 5 stars   \n",
       "2  OnePlus Nord CE4 Lite 5G (Super Silver, 8GB RA...  4.1 out of 5 stars   \n",
       "3  Samsung Galaxy M15 5G Prime Edition (Blue Topa...  3.9 out of 5 stars   \n",
       "4  OnePlus Nord CE4 Lite 5G (Super Silver, 8GB RA...  4.1 out of 5 stars   \n",
       "\n",
       "  Average Rating   Price  \n",
       "0            665   8,299  \n",
       "1            468  56,499  \n",
       "2          4,087  17,998  \n",
       "3          1,627  11,999  \n",
       "4          4,087  20,998  "
      ]
     },
     "execution_count": 65,
     "metadata": {},
     "output_type": "execute_result"
    }
   ],
   "source": [
    "df.head()"
   ]
  },
  {
   "cell_type": "code",
   "execution_count": 66,
   "id": "7addc088",
   "metadata": {
    "scrolled": true
   },
   "outputs": [],
   "source": [
    "import re\n",
    "\n",
    "# Extract RAM, Storage, and other details using regex\n",
    "df['RAM GB'] = df['Product Name'].str.extract(r'(\\d+GB RAM)')\n",
    "df['Storage GB'] = df['Product Name'].str.extract(r'(\\d+GB Storage)')\n",
    "df['Color'] = df['Product Name'].str.extract(r'\\(([^,]+)')  # Extract first part inside parentheses"
   ]
  },
  {
   "cell_type": "code",
   "execution_count": 67,
   "id": "286f6f5c",
   "metadata": {},
   "outputs": [
    {
     "data": {
      "text/html": [
       "<div>\n",
       "<style scoped>\n",
       "    .dataframe tbody tr th:only-of-type {\n",
       "        vertical-align: middle;\n",
       "    }\n",
       "\n",
       "    .dataframe tbody tr th {\n",
       "        vertical-align: top;\n",
       "    }\n",
       "\n",
       "    .dataframe thead th {\n",
       "        text-align: right;\n",
       "    }\n",
       "</style>\n",
       "<table border=\"1\" class=\"dataframe\">\n",
       "  <thead>\n",
       "    <tr style=\"text-align: right;\">\n",
       "      <th></th>\n",
       "      <th>Product Name</th>\n",
       "      <th>Rating</th>\n",
       "      <th>Average Rating</th>\n",
       "      <th>Price</th>\n",
       "      <th>RAM GB</th>\n",
       "      <th>Storage GB</th>\n",
       "      <th>Color</th>\n",
       "    </tr>\n",
       "  </thead>\n",
       "  <tbody>\n",
       "    <tr>\n",
       "      <th>0</th>\n",
       "      <td>Redmi A4 5G (Starry Black, 4GB RAM, 64GB Stora...</td>\n",
       "      <td>4.0 out of 5 stars</td>\n",
       "      <td>665</td>\n",
       "      <td>8,299</td>\n",
       "      <td>4GB RAM</td>\n",
       "      <td>64GB Storage</td>\n",
       "      <td>Starry Black</td>\n",
       "    </tr>\n",
       "    <tr>\n",
       "      <th>1</th>\n",
       "      <td>Samsung Galaxy S24 5G AI Smartphone (Amber Yel...</td>\n",
       "      <td>4.0 out of 5 stars</td>\n",
       "      <td>468</td>\n",
       "      <td>56,499</td>\n",
       "      <td>NaN</td>\n",
       "      <td>256GB Storage</td>\n",
       "      <td>Amber Yellow</td>\n",
       "    </tr>\n",
       "    <tr>\n",
       "      <th>2</th>\n",
       "      <td>OnePlus Nord CE4 Lite 5G (Super Silver, 8GB RA...</td>\n",
       "      <td>4.1 out of 5 stars</td>\n",
       "      <td>4,087</td>\n",
       "      <td>17,998</td>\n",
       "      <td>8GB RAM</td>\n",
       "      <td>128GB Storage</td>\n",
       "      <td>Super Silver</td>\n",
       "    </tr>\n",
       "    <tr>\n",
       "      <th>3</th>\n",
       "      <td>Samsung Galaxy M15 5G Prime Edition (Blue Topa...</td>\n",
       "      <td>3.9 out of 5 stars</td>\n",
       "      <td>1,627</td>\n",
       "      <td>11,999</td>\n",
       "      <td>6GB RAM</td>\n",
       "      <td>128GB Storage</td>\n",
       "      <td>Blue Topaz</td>\n",
       "    </tr>\n",
       "    <tr>\n",
       "      <th>4</th>\n",
       "      <td>OnePlus Nord CE4 Lite 5G (Super Silver, 8GB RA...</td>\n",
       "      <td>4.1 out of 5 stars</td>\n",
       "      <td>4,087</td>\n",
       "      <td>20,998</td>\n",
       "      <td>8GB RAM</td>\n",
       "      <td>256GB Storage</td>\n",
       "      <td>Super Silver</td>\n",
       "    </tr>\n",
       "  </tbody>\n",
       "</table>\n",
       "</div>"
      ],
      "text/plain": [
       "                                        Product Name              Rating  \\\n",
       "0  Redmi A4 5G (Starry Black, 4GB RAM, 64GB Stora...  4.0 out of 5 stars   \n",
       "1  Samsung Galaxy S24 5G AI Smartphone (Amber Yel...  4.0 out of 5 stars   \n",
       "2  OnePlus Nord CE4 Lite 5G (Super Silver, 8GB RA...  4.1 out of 5 stars   \n",
       "3  Samsung Galaxy M15 5G Prime Edition (Blue Topa...  3.9 out of 5 stars   \n",
       "4  OnePlus Nord CE4 Lite 5G (Super Silver, 8GB RA...  4.1 out of 5 stars   \n",
       "\n",
       "  Average Rating   Price   RAM GB     Storage GB         Color  \n",
       "0            665   8,299  4GB RAM   64GB Storage  Starry Black  \n",
       "1            468  56,499      NaN  256GB Storage  Amber Yellow  \n",
       "2          4,087  17,998  8GB RAM  128GB Storage  Super Silver  \n",
       "3          1,627  11,999  6GB RAM  128GB Storage    Blue Topaz  \n",
       "4          4,087  20,998  8GB RAM  256GB Storage  Super Silver  "
      ]
     },
     "execution_count": 67,
     "metadata": {},
     "output_type": "execute_result"
    }
   ],
   "source": [
    "df.head()"
   ]
  },
  {
   "cell_type": "code",
   "execution_count": 68,
   "id": "1b53d36a",
   "metadata": {
    "scrolled": true
   },
   "outputs": [
    {
     "data": {
      "text/plain": [
       "0                                          Redmi A4 5G \n",
       "1                  Samsung Galaxy S24 5G AI Smartphone \n",
       "2                             OnePlus Nord CE4 Lite 5G \n",
       "3                  Samsung Galaxy M15 5G Prime Edition \n",
       "4                             OnePlus Nord CE4 Lite 5G \n",
       "5                                  realme NARZO 70x 5G \n",
       "6                                  realme NARZO 70x 5G \n",
       "7                           Motorola Edge 50 Fusion 5G \n",
       "8                                     Oneplus Nord CE4 \n",
       "9                            OnePlus Nord CE 3 Lite 5G \n",
       "10    iPhone 16 128 GB: 5G Mobile Phone with Camera ...\n",
       "11    iPhone 16 Plus 512 GB: 5G Mobile Phone with Ca...\n",
       "12                            realme NARZO 70 Turbo 5G \n",
       "13                                       realme 12X 5G \n",
       "14                                         Redmi A4 5G \n",
       "15                                    realme NARZO N61 \n",
       "16                                         OPPO F27 5G \n",
       "17                                         Redmi A4 5G \n",
       "18                           OnePlus Nord CE 3 Lite 5G \n",
       "19                                         iQOO Z9x 5G \n",
       "20                                     Apple iPhone 13 \n",
       "21    iPhone 16 Pro 1 TB: 5G Mobile Phone with Camer...\n",
       "Name: Product Name, dtype: object"
      ]
     },
     "execution_count": 68,
     "metadata": {},
     "output_type": "execute_result"
    }
   ],
   "source": [
    "df['Product Name']=df['Product Name'].str.split('(')\n",
    "df['Product Name'] = df['Product Name'].apply(lambda x: x[0] if isinstance(x, list) else x)\n",
    "\n",
    "df['Product Name']"
   ]
  },
  {
   "cell_type": "code",
   "execution_count": 69,
   "id": "faf854a7",
   "metadata": {},
   "outputs": [
    {
     "data": {
      "text/plain": [
       "0                             Redmi A4 5G \n",
       "1     Samsung Galaxy S24 5G AI Smartphone \n",
       "2                OnePlus Nord CE4 Lite 5G \n",
       "3     Samsung Galaxy M15 5G Prime Edition \n",
       "4                OnePlus Nord CE4 Lite 5G \n",
       "5                     realme NARZO 70x 5G \n",
       "6                     realme NARZO 70x 5G \n",
       "7              Motorola Edge 50 Fusion 5G \n",
       "8                        Oneplus Nord CE4 \n",
       "9               OnePlus Nord CE 3 Lite 5G \n",
       "10                        iPhone 16 128 GB\n",
       "11                   iPhone 16 Plus 512 GB\n",
       "12               realme NARZO 70 Turbo 5G \n",
       "13                          realme 12X 5G \n",
       "14                            Redmi A4 5G \n",
       "15                       realme NARZO N61 \n",
       "16                            OPPO F27 5G \n",
       "17                            Redmi A4 5G \n",
       "18              OnePlus Nord CE 3 Lite 5G \n",
       "19                            iQOO Z9x 5G \n",
       "20                        Apple iPhone 13 \n",
       "21                      iPhone 16 Pro 1 TB\n",
       "Name: Product Name, dtype: object"
      ]
     },
     "execution_count": 69,
     "metadata": {},
     "output_type": "execute_result"
    }
   ],
   "source": [
    "df['Product Name']=df['Product Name'].str.split(':')\n",
    "df['Product Name'] = df['Product Name'].apply(lambda x: x[0] if isinstance(x, list) else x)\n",
    "df['Product Name']"
   ]
  },
  {
   "cell_type": "code",
   "execution_count": 70,
   "id": "cc55d3a2",
   "metadata": {},
   "outputs": [],
   "source": [
    "df['Rating'] = df['Rating'].apply(lambda x: str(x)[:3] if isinstance(x, str) else x)"
   ]
  },
  {
   "cell_type": "code",
   "execution_count": 71,
   "id": "8662bf6c",
   "metadata": {},
   "outputs": [],
   "source": [
    "df['RAM GB'] = df['RAM GB'].apply(lambda x: str(x)[:-6] if isinstance(x, str) else x)"
   ]
  },
  {
   "cell_type": "code",
   "execution_count": 72,
   "id": "f48ca5a8",
   "metadata": {},
   "outputs": [],
   "source": [
    "df['Storage GB'] = df['Storage GB'].apply(lambda x: str(x)[:-10] if isinstance(x, str) else x)"
   ]
  },
  {
   "cell_type": "code",
   "execution_count": 73,
   "id": "67de7f71",
   "metadata": {
    "scrolled": true
   },
   "outputs": [
    {
     "data": {
      "text/html": [
       "<div>\n",
       "<style scoped>\n",
       "    .dataframe tbody tr th:only-of-type {\n",
       "        vertical-align: middle;\n",
       "    }\n",
       "\n",
       "    .dataframe tbody tr th {\n",
       "        vertical-align: top;\n",
       "    }\n",
       "\n",
       "    .dataframe thead th {\n",
       "        text-align: right;\n",
       "    }\n",
       "</style>\n",
       "<table border=\"1\" class=\"dataframe\">\n",
       "  <thead>\n",
       "    <tr style=\"text-align: right;\">\n",
       "      <th></th>\n",
       "      <th>Product Name</th>\n",
       "      <th>Rating</th>\n",
       "      <th>Average Rating</th>\n",
       "      <th>Price</th>\n",
       "      <th>RAM GB</th>\n",
       "      <th>Storage GB</th>\n",
       "      <th>Color</th>\n",
       "    </tr>\n",
       "  </thead>\n",
       "  <tbody>\n",
       "    <tr>\n",
       "      <th>0</th>\n",
       "      <td>Redmi A4 5G</td>\n",
       "      <td>4.0</td>\n",
       "      <td>665</td>\n",
       "      <td>8,299</td>\n",
       "      <td>4</td>\n",
       "      <td>64</td>\n",
       "      <td>Starry Black</td>\n",
       "    </tr>\n",
       "    <tr>\n",
       "      <th>1</th>\n",
       "      <td>Samsung Galaxy S24 5G AI Smartphone</td>\n",
       "      <td>4.0</td>\n",
       "      <td>468</td>\n",
       "      <td>56,499</td>\n",
       "      <td>NaN</td>\n",
       "      <td>256</td>\n",
       "      <td>Amber Yellow</td>\n",
       "    </tr>\n",
       "    <tr>\n",
       "      <th>2</th>\n",
       "      <td>OnePlus Nord CE4 Lite 5G</td>\n",
       "      <td>4.1</td>\n",
       "      <td>4,087</td>\n",
       "      <td>17,998</td>\n",
       "      <td>8</td>\n",
       "      <td>128</td>\n",
       "      <td>Super Silver</td>\n",
       "    </tr>\n",
       "    <tr>\n",
       "      <th>3</th>\n",
       "      <td>Samsung Galaxy M15 5G Prime Edition</td>\n",
       "      <td>3.9</td>\n",
       "      <td>1,627</td>\n",
       "      <td>11,999</td>\n",
       "      <td>6</td>\n",
       "      <td>128</td>\n",
       "      <td>Blue Topaz</td>\n",
       "    </tr>\n",
       "    <tr>\n",
       "      <th>4</th>\n",
       "      <td>OnePlus Nord CE4 Lite 5G</td>\n",
       "      <td>4.1</td>\n",
       "      <td>4,087</td>\n",
       "      <td>20,998</td>\n",
       "      <td>8</td>\n",
       "      <td>256</td>\n",
       "      <td>Super Silver</td>\n",
       "    </tr>\n",
       "    <tr>\n",
       "      <th>5</th>\n",
       "      <td>realme NARZO 70x 5G</td>\n",
       "      <td>4.1</td>\n",
       "      <td>4,452</td>\n",
       "      <td>11,498</td>\n",
       "      <td>8</td>\n",
       "      <td>128</td>\n",
       "      <td>Ice Blue</td>\n",
       "    </tr>\n",
       "    <tr>\n",
       "      <th>6</th>\n",
       "      <td>realme NARZO 70x 5G</td>\n",
       "      <td>4.1</td>\n",
       "      <td>4,452</td>\n",
       "      <td>13,499</td>\n",
       "      <td>6</td>\n",
       "      <td>128</td>\n",
       "      <td>Ice Blue</td>\n",
       "    </tr>\n",
       "    <tr>\n",
       "      <th>7</th>\n",
       "      <td>Motorola Edge 50 Fusion 5G</td>\n",
       "      <td>4.1</td>\n",
       "      <td>157</td>\n",
       "      <td>23,837</td>\n",
       "      <td>12</td>\n",
       "      <td>256</td>\n",
       "      <td>Hot Pink</td>\n",
       "    </tr>\n",
       "    <tr>\n",
       "      <th>8</th>\n",
       "      <td>Oneplus Nord CE4</td>\n",
       "      <td>4.2</td>\n",
       "      <td>6,813</td>\n",
       "      <td>23,999</td>\n",
       "      <td>8</td>\n",
       "      <td>256</td>\n",
       "      <td>Dark Chrome</td>\n",
       "    </tr>\n",
       "    <tr>\n",
       "      <th>9</th>\n",
       "      <td>OnePlus Nord CE 3 Lite 5G</td>\n",
       "      <td>4.2</td>\n",
       "      <td>60,011</td>\n",
       "      <td>15,499</td>\n",
       "      <td>8</td>\n",
       "      <td>128</td>\n",
       "      <td>Pastel Lime</td>\n",
       "    </tr>\n",
       "    <tr>\n",
       "      <th>10</th>\n",
       "      <td>iPhone 16 128 GB</td>\n",
       "      <td>4.4</td>\n",
       "      <td>203</td>\n",
       "      <td>74,900</td>\n",
       "      <td>NaN</td>\n",
       "      <td>NaN</td>\n",
       "      <td>NaN</td>\n",
       "    </tr>\n",
       "    <tr>\n",
       "      <th>11</th>\n",
       "      <td>iPhone 16 Plus 512 GB</td>\n",
       "      <td>4.3</td>\n",
       "      <td>105</td>\n",
       "      <td>1,14,900</td>\n",
       "      <td>NaN</td>\n",
       "      <td>NaN</td>\n",
       "      <td>NaN</td>\n",
       "    </tr>\n",
       "    <tr>\n",
       "      <th>12</th>\n",
       "      <td>realme NARZO 70 Turbo 5G</td>\n",
       "      <td>4.2</td>\n",
       "      <td>1,949</td>\n",
       "      <td>16,998</td>\n",
       "      <td>6</td>\n",
       "      <td>128</td>\n",
       "      <td>Turbo Purple</td>\n",
       "    </tr>\n",
       "    <tr>\n",
       "      <th>13</th>\n",
       "      <td>realme 12X 5G</td>\n",
       "      <td>4.2</td>\n",
       "      <td>161</td>\n",
       "      <td>12,719</td>\n",
       "      <td>8</td>\n",
       "      <td>128</td>\n",
       "      <td>Woodland Green</td>\n",
       "    </tr>\n",
       "    <tr>\n",
       "      <th>14</th>\n",
       "      <td>Redmi A4 5G</td>\n",
       "      <td>4.0</td>\n",
       "      <td>665</td>\n",
       "      <td>9,499</td>\n",
       "      <td>4</td>\n",
       "      <td>128</td>\n",
       "      <td>Sparkle Purple</td>\n",
       "    </tr>\n",
       "    <tr>\n",
       "      <th>15</th>\n",
       "      <td>realme NARZO N61</td>\n",
       "      <td>4.0</td>\n",
       "      <td>1,525</td>\n",
       "      <td>8,498</td>\n",
       "      <td>6</td>\n",
       "      <td>128</td>\n",
       "      <td>Voyage Blue</td>\n",
       "    </tr>\n",
       "    <tr>\n",
       "      <th>16</th>\n",
       "      <td>OPPO F27 5G</td>\n",
       "      <td>3.6</td>\n",
       "      <td>146</td>\n",
       "      <td>22,999</td>\n",
       "      <td>8</td>\n",
       "      <td>256</td>\n",
       "      <td>Emerald Green</td>\n",
       "    </tr>\n",
       "    <tr>\n",
       "      <th>17</th>\n",
       "      <td>Redmi A4 5G</td>\n",
       "      <td>4.0</td>\n",
       "      <td>665</td>\n",
       "      <td>9,499</td>\n",
       "      <td>4</td>\n",
       "      <td>128</td>\n",
       "      <td>Starry Black</td>\n",
       "    </tr>\n",
       "    <tr>\n",
       "      <th>18</th>\n",
       "      <td>OnePlus Nord CE 3 Lite 5G</td>\n",
       "      <td>4.2</td>\n",
       "      <td>60,011</td>\n",
       "      <td>15,899</td>\n",
       "      <td>8</td>\n",
       "      <td>128</td>\n",
       "      <td>Chromatic Gray</td>\n",
       "    </tr>\n",
       "    <tr>\n",
       "      <th>19</th>\n",
       "      <td>iQOO Z9x 5G</td>\n",
       "      <td>4.2</td>\n",
       "      <td>5,541</td>\n",
       "      <td>13,499</td>\n",
       "      <td>6</td>\n",
       "      <td>128</td>\n",
       "      <td>Storm Grey</td>\n",
       "    </tr>\n",
       "    <tr>\n",
       "      <th>20</th>\n",
       "      <td>Apple iPhone 13</td>\n",
       "      <td>4.5</td>\n",
       "      <td>32,146</td>\n",
       "      <td>43,499</td>\n",
       "      <td>NaN</td>\n",
       "      <td>NaN</td>\n",
       "      <td>128GB) - Green</td>\n",
       "    </tr>\n",
       "    <tr>\n",
       "      <th>21</th>\n",
       "      <td>iPhone 16 Pro 1 TB</td>\n",
       "      <td>4.0</td>\n",
       "      <td>89</td>\n",
       "      <td>1,62,900</td>\n",
       "      <td>NaN</td>\n",
       "      <td>NaN</td>\n",
       "      <td>NaN</td>\n",
       "    </tr>\n",
       "  </tbody>\n",
       "</table>\n",
       "</div>"
      ],
      "text/plain": [
       "                            Product Name Rating Average Rating     Price  \\\n",
       "0                           Redmi A4 5G     4.0            665     8,299   \n",
       "1   Samsung Galaxy S24 5G AI Smartphone     4.0            468    56,499   \n",
       "2              OnePlus Nord CE4 Lite 5G     4.1          4,087    17,998   \n",
       "3   Samsung Galaxy M15 5G Prime Edition     3.9          1,627    11,999   \n",
       "4              OnePlus Nord CE4 Lite 5G     4.1          4,087    20,998   \n",
       "5                   realme NARZO 70x 5G     4.1          4,452    11,498   \n",
       "6                   realme NARZO 70x 5G     4.1          4,452    13,499   \n",
       "7            Motorola Edge 50 Fusion 5G     4.1            157    23,837   \n",
       "8                      Oneplus Nord CE4     4.2          6,813    23,999   \n",
       "9             OnePlus Nord CE 3 Lite 5G     4.2         60,011    15,499   \n",
       "10                      iPhone 16 128 GB    4.4            203    74,900   \n",
       "11                 iPhone 16 Plus 512 GB    4.3            105  1,14,900   \n",
       "12             realme NARZO 70 Turbo 5G     4.2          1,949    16,998   \n",
       "13                        realme 12X 5G     4.2            161    12,719   \n",
       "14                          Redmi A4 5G     4.0            665     9,499   \n",
       "15                     realme NARZO N61     4.0          1,525     8,498   \n",
       "16                          OPPO F27 5G     3.6            146    22,999   \n",
       "17                          Redmi A4 5G     4.0            665     9,499   \n",
       "18            OnePlus Nord CE 3 Lite 5G     4.2         60,011    15,899   \n",
       "19                          iQOO Z9x 5G     4.2          5,541    13,499   \n",
       "20                      Apple iPhone 13     4.5         32,146    43,499   \n",
       "21                    iPhone 16 Pro 1 TB    4.0             89  1,62,900   \n",
       "\n",
       "   RAM GB Storage GB           Color  \n",
       "0       4         64    Starry Black  \n",
       "1     NaN        256    Amber Yellow  \n",
       "2       8        128    Super Silver  \n",
       "3       6        128      Blue Topaz  \n",
       "4       8        256    Super Silver  \n",
       "5       8        128        Ice Blue  \n",
       "6       6        128        Ice Blue  \n",
       "7      12        256        Hot Pink  \n",
       "8       8        256     Dark Chrome  \n",
       "9       8        128     Pastel Lime  \n",
       "10    NaN        NaN             NaN  \n",
       "11    NaN        NaN             NaN  \n",
       "12      6        128    Turbo Purple  \n",
       "13      8        128  Woodland Green  \n",
       "14      4        128  Sparkle Purple  \n",
       "15      6        128     Voyage Blue  \n",
       "16      8        256   Emerald Green  \n",
       "17      4        128    Starry Black  \n",
       "18      8        128  Chromatic Gray  \n",
       "19      6        128      Storm Grey  \n",
       "20    NaN        NaN  128GB) - Green  \n",
       "21    NaN        NaN             NaN  "
      ]
     },
     "execution_count": 73,
     "metadata": {},
     "output_type": "execute_result"
    }
   ],
   "source": [
    "df"
   ]
  },
  {
   "cell_type": "code",
   "execution_count": 75,
   "id": "085a7d00",
   "metadata": {},
   "outputs": [
    {
     "data": {
      "text/plain": [
       "Product Name      0\n",
       "Rating            0\n",
       "Average Rating    0\n",
       "Price             0\n",
       "RAM GB            5\n",
       "Storage GB        4\n",
       "Color             3\n",
       "dtype: int64"
      ]
     },
     "execution_count": 75,
     "metadata": {},
     "output_type": "execute_result"
    }
   ],
   "source": [
    "df.isnull().sum()"
   ]
  },
  {
   "cell_type": "code",
   "execution_count": 76,
   "id": "790578eb",
   "metadata": {},
   "outputs": [
    {
     "data": {
      "text/html": [
       "<div>\n",
       "<style scoped>\n",
       "    .dataframe tbody tr th:only-of-type {\n",
       "        vertical-align: middle;\n",
       "    }\n",
       "\n",
       "    .dataframe tbody tr th {\n",
       "        vertical-align: top;\n",
       "    }\n",
       "\n",
       "    .dataframe thead th {\n",
       "        text-align: right;\n",
       "    }\n",
       "</style>\n",
       "<table border=\"1\" class=\"dataframe\">\n",
       "  <thead>\n",
       "    <tr style=\"text-align: right;\">\n",
       "      <th></th>\n",
       "      <th>Product Name</th>\n",
       "      <th>Rating</th>\n",
       "      <th>Average Rating</th>\n",
       "      <th>Price</th>\n",
       "      <th>RAM GB</th>\n",
       "      <th>Storage GB</th>\n",
       "      <th>Color</th>\n",
       "    </tr>\n",
       "  </thead>\n",
       "  <tbody>\n",
       "    <tr>\n",
       "      <th>1</th>\n",
       "      <td>Samsung Galaxy S24 5G AI Smartphone</td>\n",
       "      <td>4.0</td>\n",
       "      <td>468</td>\n",
       "      <td>56,499</td>\n",
       "      <td>NaN</td>\n",
       "      <td>256</td>\n",
       "      <td>Amber Yellow</td>\n",
       "    </tr>\n",
       "    <tr>\n",
       "      <th>10</th>\n",
       "      <td>iPhone 16 128 GB</td>\n",
       "      <td>4.4</td>\n",
       "      <td>203</td>\n",
       "      <td>74,900</td>\n",
       "      <td>NaN</td>\n",
       "      <td>NaN</td>\n",
       "      <td>NaN</td>\n",
       "    </tr>\n",
       "    <tr>\n",
       "      <th>11</th>\n",
       "      <td>iPhone 16 Plus 512 GB</td>\n",
       "      <td>4.3</td>\n",
       "      <td>105</td>\n",
       "      <td>1,14,900</td>\n",
       "      <td>NaN</td>\n",
       "      <td>NaN</td>\n",
       "      <td>NaN</td>\n",
       "    </tr>\n",
       "    <tr>\n",
       "      <th>20</th>\n",
       "      <td>Apple iPhone 13</td>\n",
       "      <td>4.5</td>\n",
       "      <td>32,146</td>\n",
       "      <td>43,499</td>\n",
       "      <td>NaN</td>\n",
       "      <td>NaN</td>\n",
       "      <td>128GB) - Green</td>\n",
       "    </tr>\n",
       "    <tr>\n",
       "      <th>21</th>\n",
       "      <td>iPhone 16 Pro 1 TB</td>\n",
       "      <td>4.0</td>\n",
       "      <td>89</td>\n",
       "      <td>1,62,900</td>\n",
       "      <td>NaN</td>\n",
       "      <td>NaN</td>\n",
       "      <td>NaN</td>\n",
       "    </tr>\n",
       "  </tbody>\n",
       "</table>\n",
       "</div>"
      ],
      "text/plain": [
       "                            Product Name Rating Average Rating     Price  \\\n",
       "1   Samsung Galaxy S24 5G AI Smartphone     4.0            468    56,499   \n",
       "10                      iPhone 16 128 GB    4.4            203    74,900   \n",
       "11                 iPhone 16 Plus 512 GB    4.3            105  1,14,900   \n",
       "20                      Apple iPhone 13     4.5         32,146    43,499   \n",
       "21                    iPhone 16 Pro 1 TB    4.0             89  1,62,900   \n",
       "\n",
       "   RAM GB Storage GB           Color  \n",
       "1     NaN        256    Amber Yellow  \n",
       "10    NaN        NaN             NaN  \n",
       "11    NaN        NaN             NaN  \n",
       "20    NaN        NaN  128GB) - Green  \n",
       "21    NaN        NaN             NaN  "
      ]
     },
     "execution_count": 76,
     "metadata": {},
     "output_type": "execute_result"
    }
   ],
   "source": [
    "df[df['RAM GB'].isnull()]"
   ]
  },
  {
   "cell_type": "code",
   "execution_count": 77,
   "id": "d268492d",
   "metadata": {},
   "outputs": [],
   "source": [
    "df.loc[1,'RAM GB']= '8'\n",
    "df.loc[10,'RAM GB']='8'\n",
    "df.loc[11,'RAM GB']='8'\n",
    "df.loc[20,'RAM GB']='6'\n",
    "df.loc[21,'RAM GB']='8'"
   ]
  },
  {
   "cell_type": "code",
   "execution_count": 78,
   "id": "511489db",
   "metadata": {},
   "outputs": [
    {
     "data": {
      "text/plain": [
       "0"
      ]
     },
     "execution_count": 78,
     "metadata": {},
     "output_type": "execute_result"
    }
   ],
   "source": [
    "df['RAM GB'].isnull().sum()"
   ]
  },
  {
   "cell_type": "code",
   "execution_count": 79,
   "id": "0c77eb40",
   "metadata": {
    "scrolled": true
   },
   "outputs": [
    {
     "data": {
      "text/html": [
       "<div>\n",
       "<style scoped>\n",
       "    .dataframe tbody tr th:only-of-type {\n",
       "        vertical-align: middle;\n",
       "    }\n",
       "\n",
       "    .dataframe tbody tr th {\n",
       "        vertical-align: top;\n",
       "    }\n",
       "\n",
       "    .dataframe thead th {\n",
       "        text-align: right;\n",
       "    }\n",
       "</style>\n",
       "<table border=\"1\" class=\"dataframe\">\n",
       "  <thead>\n",
       "    <tr style=\"text-align: right;\">\n",
       "      <th></th>\n",
       "      <th>Product Name</th>\n",
       "      <th>Rating</th>\n",
       "      <th>Average Rating</th>\n",
       "      <th>Price</th>\n",
       "      <th>RAM GB</th>\n",
       "      <th>Storage GB</th>\n",
       "      <th>Color</th>\n",
       "    </tr>\n",
       "  </thead>\n",
       "  <tbody>\n",
       "    <tr>\n",
       "      <th>10</th>\n",
       "      <td>iPhone 16 128 GB</td>\n",
       "      <td>4.4</td>\n",
       "      <td>203</td>\n",
       "      <td>74,900</td>\n",
       "      <td>8</td>\n",
       "      <td>NaN</td>\n",
       "      <td>NaN</td>\n",
       "    </tr>\n",
       "    <tr>\n",
       "      <th>11</th>\n",
       "      <td>iPhone 16 Plus 512 GB</td>\n",
       "      <td>4.3</td>\n",
       "      <td>105</td>\n",
       "      <td>1,14,900</td>\n",
       "      <td>8</td>\n",
       "      <td>NaN</td>\n",
       "      <td>NaN</td>\n",
       "    </tr>\n",
       "    <tr>\n",
       "      <th>20</th>\n",
       "      <td>Apple iPhone 13</td>\n",
       "      <td>4.5</td>\n",
       "      <td>32,146</td>\n",
       "      <td>43,499</td>\n",
       "      <td>6</td>\n",
       "      <td>NaN</td>\n",
       "      <td>128GB) - Green</td>\n",
       "    </tr>\n",
       "    <tr>\n",
       "      <th>21</th>\n",
       "      <td>iPhone 16 Pro 1 TB</td>\n",
       "      <td>4.0</td>\n",
       "      <td>89</td>\n",
       "      <td>1,62,900</td>\n",
       "      <td>8</td>\n",
       "      <td>NaN</td>\n",
       "      <td>NaN</td>\n",
       "    </tr>\n",
       "  </tbody>\n",
       "</table>\n",
       "</div>"
      ],
      "text/plain": [
       "             Product Name Rating Average Rating     Price RAM GB Storage GB  \\\n",
       "10       iPhone 16 128 GB    4.4            203    74,900      8        NaN   \n",
       "11  iPhone 16 Plus 512 GB    4.3            105  1,14,900      8        NaN   \n",
       "20       Apple iPhone 13     4.5         32,146    43,499      6        NaN   \n",
       "21     iPhone 16 Pro 1 TB    4.0             89  1,62,900      8        NaN   \n",
       "\n",
       "             Color  \n",
       "10             NaN  \n",
       "11             NaN  \n",
       "20  128GB) - Green  \n",
       "21             NaN  "
      ]
     },
     "execution_count": 79,
     "metadata": {},
     "output_type": "execute_result"
    }
   ],
   "source": [
    "df[df['Storage GB'].isnull()]"
   ]
  },
  {
   "cell_type": "code",
   "execution_count": 80,
   "id": "65887dfc",
   "metadata": {},
   "outputs": [],
   "source": [
    "df.loc[10,'Storage GB']='128'\n",
    "df.loc[11,'Storage GB']='512'\n",
    "df.loc[20,'Storage GB']='128'\n",
    "df.loc[21,'Storage GB']='1024'"
   ]
  },
  {
   "cell_type": "code",
   "execution_count": 81,
   "id": "2e344161",
   "metadata": {
    "scrolled": true
   },
   "outputs": [
    {
     "data": {
      "text/plain": [
       "0"
      ]
     },
     "execution_count": 81,
     "metadata": {},
     "output_type": "execute_result"
    }
   ],
   "source": [
    "df['Storage GB'].isnull().sum()"
   ]
  },
  {
   "cell_type": "code",
   "execution_count": 82,
   "id": "973faf71",
   "metadata": {},
   "outputs": [
    {
     "data": {
      "text/html": [
       "<div>\n",
       "<style scoped>\n",
       "    .dataframe tbody tr th:only-of-type {\n",
       "        vertical-align: middle;\n",
       "    }\n",
       "\n",
       "    .dataframe tbody tr th {\n",
       "        vertical-align: top;\n",
       "    }\n",
       "\n",
       "    .dataframe thead th {\n",
       "        text-align: right;\n",
       "    }\n",
       "</style>\n",
       "<table border=\"1\" class=\"dataframe\">\n",
       "  <thead>\n",
       "    <tr style=\"text-align: right;\">\n",
       "      <th></th>\n",
       "      <th>Product Name</th>\n",
       "      <th>Rating</th>\n",
       "      <th>Average Rating</th>\n",
       "      <th>Price</th>\n",
       "      <th>RAM GB</th>\n",
       "      <th>Storage GB</th>\n",
       "      <th>Color</th>\n",
       "    </tr>\n",
       "  </thead>\n",
       "  <tbody>\n",
       "    <tr>\n",
       "      <th>10</th>\n",
       "      <td>iPhone 16 128 GB</td>\n",
       "      <td>4.4</td>\n",
       "      <td>203</td>\n",
       "      <td>74,900</td>\n",
       "      <td>8</td>\n",
       "      <td>128</td>\n",
       "      <td>NaN</td>\n",
       "    </tr>\n",
       "    <tr>\n",
       "      <th>11</th>\n",
       "      <td>iPhone 16 Plus 512 GB</td>\n",
       "      <td>4.3</td>\n",
       "      <td>105</td>\n",
       "      <td>1,14,900</td>\n",
       "      <td>8</td>\n",
       "      <td>512</td>\n",
       "      <td>NaN</td>\n",
       "    </tr>\n",
       "    <tr>\n",
       "      <th>21</th>\n",
       "      <td>iPhone 16 Pro 1 TB</td>\n",
       "      <td>4.0</td>\n",
       "      <td>89</td>\n",
       "      <td>1,62,900</td>\n",
       "      <td>8</td>\n",
       "      <td>1024</td>\n",
       "      <td>NaN</td>\n",
       "    </tr>\n",
       "  </tbody>\n",
       "</table>\n",
       "</div>"
      ],
      "text/plain": [
       "             Product Name Rating Average Rating     Price RAM GB Storage GB  \\\n",
       "10       iPhone 16 128 GB    4.4            203    74,900      8        128   \n",
       "11  iPhone 16 Plus 512 GB    4.3            105  1,14,900      8        512   \n",
       "21     iPhone 16 Pro 1 TB    4.0             89  1,62,900      8       1024   \n",
       "\n",
       "   Color  \n",
       "10   NaN  \n",
       "11   NaN  \n",
       "21   NaN  "
      ]
     },
     "execution_count": 82,
     "metadata": {},
     "output_type": "execute_result"
    }
   ],
   "source": [
    "df[df['Color'].isnull()]"
   ]
  },
  {
   "cell_type": "code",
   "execution_count": 83,
   "id": "6007d470",
   "metadata": {},
   "outputs": [],
   "source": [
    "df.loc[10,'Color']='Black'\n",
    "df.loc[11,'Color']='White'\n",
    "df.loc[21,'Color']='White Titanium'\n",
    "df.loc[20,'Color']='Green'"
   ]
  },
  {
   "cell_type": "code",
   "execution_count": 84,
   "id": "4859cf2c",
   "metadata": {},
   "outputs": [
    {
     "data": {
      "text/plain": [
       "0"
      ]
     },
     "execution_count": 84,
     "metadata": {},
     "output_type": "execute_result"
    }
   ],
   "source": [
    "df['Color'].isnull().sum()"
   ]
  },
  {
   "cell_type": "code",
   "execution_count": 85,
   "id": "a4a18bf3",
   "metadata": {},
   "outputs": [],
   "source": [
    "df['Average Rating']=df['Average Rating'].str.replace(',','')\n",
    "df['Price']=df['Price'].str.replace(',','')\n",
    "# df['Average Rating'] = df['Average Rating'].replace(',', '', regex=True)   ##both can be used.str or regex"
   ]
  },
  {
   "cell_type": "code",
   "execution_count": 86,
   "id": "4344f06b",
   "metadata": {},
   "outputs": [
    {
     "data": {
      "text/html": [
       "<div>\n",
       "<style scoped>\n",
       "    .dataframe tbody tr th:only-of-type {\n",
       "        vertical-align: middle;\n",
       "    }\n",
       "\n",
       "    .dataframe tbody tr th {\n",
       "        vertical-align: top;\n",
       "    }\n",
       "\n",
       "    .dataframe thead th {\n",
       "        text-align: right;\n",
       "    }\n",
       "</style>\n",
       "<table border=\"1\" class=\"dataframe\">\n",
       "  <thead>\n",
       "    <tr style=\"text-align: right;\">\n",
       "      <th></th>\n",
       "      <th>Product Name</th>\n",
       "      <th>Rating</th>\n",
       "      <th>Average Rating</th>\n",
       "      <th>Price</th>\n",
       "      <th>RAM GB</th>\n",
       "      <th>Storage GB</th>\n",
       "      <th>Color</th>\n",
       "    </tr>\n",
       "  </thead>\n",
       "  <tbody>\n",
       "    <tr>\n",
       "      <th>0</th>\n",
       "      <td>Redmi A4 5G</td>\n",
       "      <td>4.0</td>\n",
       "      <td>665</td>\n",
       "      <td>8299</td>\n",
       "      <td>4</td>\n",
       "      <td>64</td>\n",
       "      <td>Starry Black</td>\n",
       "    </tr>\n",
       "    <tr>\n",
       "      <th>1</th>\n",
       "      <td>Samsung Galaxy S24 5G AI Smartphone</td>\n",
       "      <td>4.0</td>\n",
       "      <td>468</td>\n",
       "      <td>56499</td>\n",
       "      <td>8</td>\n",
       "      <td>256</td>\n",
       "      <td>Amber Yellow</td>\n",
       "    </tr>\n",
       "    <tr>\n",
       "      <th>2</th>\n",
       "      <td>OnePlus Nord CE4 Lite 5G</td>\n",
       "      <td>4.1</td>\n",
       "      <td>4087</td>\n",
       "      <td>17998</td>\n",
       "      <td>8</td>\n",
       "      <td>128</td>\n",
       "      <td>Super Silver</td>\n",
       "    </tr>\n",
       "    <tr>\n",
       "      <th>3</th>\n",
       "      <td>Samsung Galaxy M15 5G Prime Edition</td>\n",
       "      <td>3.9</td>\n",
       "      <td>1627</td>\n",
       "      <td>11999</td>\n",
       "      <td>6</td>\n",
       "      <td>128</td>\n",
       "      <td>Blue Topaz</td>\n",
       "    </tr>\n",
       "    <tr>\n",
       "      <th>4</th>\n",
       "      <td>OnePlus Nord CE4 Lite 5G</td>\n",
       "      <td>4.1</td>\n",
       "      <td>4087</td>\n",
       "      <td>20998</td>\n",
       "      <td>8</td>\n",
       "      <td>256</td>\n",
       "      <td>Super Silver</td>\n",
       "    </tr>\n",
       "    <tr>\n",
       "      <th>5</th>\n",
       "      <td>realme NARZO 70x 5G</td>\n",
       "      <td>4.1</td>\n",
       "      <td>4452</td>\n",
       "      <td>11498</td>\n",
       "      <td>8</td>\n",
       "      <td>128</td>\n",
       "      <td>Ice Blue</td>\n",
       "    </tr>\n",
       "    <tr>\n",
       "      <th>6</th>\n",
       "      <td>realme NARZO 70x 5G</td>\n",
       "      <td>4.1</td>\n",
       "      <td>4452</td>\n",
       "      <td>13499</td>\n",
       "      <td>6</td>\n",
       "      <td>128</td>\n",
       "      <td>Ice Blue</td>\n",
       "    </tr>\n",
       "    <tr>\n",
       "      <th>7</th>\n",
       "      <td>Motorola Edge 50 Fusion 5G</td>\n",
       "      <td>4.1</td>\n",
       "      <td>157</td>\n",
       "      <td>23837</td>\n",
       "      <td>12</td>\n",
       "      <td>256</td>\n",
       "      <td>Hot Pink</td>\n",
       "    </tr>\n",
       "    <tr>\n",
       "      <th>8</th>\n",
       "      <td>Oneplus Nord CE4</td>\n",
       "      <td>4.2</td>\n",
       "      <td>6813</td>\n",
       "      <td>23999</td>\n",
       "      <td>8</td>\n",
       "      <td>256</td>\n",
       "      <td>Dark Chrome</td>\n",
       "    </tr>\n",
       "    <tr>\n",
       "      <th>9</th>\n",
       "      <td>OnePlus Nord CE 3 Lite 5G</td>\n",
       "      <td>4.2</td>\n",
       "      <td>60011</td>\n",
       "      <td>15499</td>\n",
       "      <td>8</td>\n",
       "      <td>128</td>\n",
       "      <td>Pastel Lime</td>\n",
       "    </tr>\n",
       "    <tr>\n",
       "      <th>10</th>\n",
       "      <td>iPhone 16 128 GB</td>\n",
       "      <td>4.4</td>\n",
       "      <td>203</td>\n",
       "      <td>74900</td>\n",
       "      <td>8</td>\n",
       "      <td>128</td>\n",
       "      <td>Black</td>\n",
       "    </tr>\n",
       "    <tr>\n",
       "      <th>11</th>\n",
       "      <td>iPhone 16 Plus 512 GB</td>\n",
       "      <td>4.3</td>\n",
       "      <td>105</td>\n",
       "      <td>114900</td>\n",
       "      <td>8</td>\n",
       "      <td>512</td>\n",
       "      <td>White</td>\n",
       "    </tr>\n",
       "    <tr>\n",
       "      <th>12</th>\n",
       "      <td>realme NARZO 70 Turbo 5G</td>\n",
       "      <td>4.2</td>\n",
       "      <td>1949</td>\n",
       "      <td>16998</td>\n",
       "      <td>6</td>\n",
       "      <td>128</td>\n",
       "      <td>Turbo Purple</td>\n",
       "    </tr>\n",
       "    <tr>\n",
       "      <th>13</th>\n",
       "      <td>realme 12X 5G</td>\n",
       "      <td>4.2</td>\n",
       "      <td>161</td>\n",
       "      <td>12719</td>\n",
       "      <td>8</td>\n",
       "      <td>128</td>\n",
       "      <td>Woodland Green</td>\n",
       "    </tr>\n",
       "    <tr>\n",
       "      <th>14</th>\n",
       "      <td>Redmi A4 5G</td>\n",
       "      <td>4.0</td>\n",
       "      <td>665</td>\n",
       "      <td>9499</td>\n",
       "      <td>4</td>\n",
       "      <td>128</td>\n",
       "      <td>Sparkle Purple</td>\n",
       "    </tr>\n",
       "    <tr>\n",
       "      <th>15</th>\n",
       "      <td>realme NARZO N61</td>\n",
       "      <td>4.0</td>\n",
       "      <td>1525</td>\n",
       "      <td>8498</td>\n",
       "      <td>6</td>\n",
       "      <td>128</td>\n",
       "      <td>Voyage Blue</td>\n",
       "    </tr>\n",
       "    <tr>\n",
       "      <th>16</th>\n",
       "      <td>OPPO F27 5G</td>\n",
       "      <td>3.6</td>\n",
       "      <td>146</td>\n",
       "      <td>22999</td>\n",
       "      <td>8</td>\n",
       "      <td>256</td>\n",
       "      <td>Emerald Green</td>\n",
       "    </tr>\n",
       "    <tr>\n",
       "      <th>17</th>\n",
       "      <td>Redmi A4 5G</td>\n",
       "      <td>4.0</td>\n",
       "      <td>665</td>\n",
       "      <td>9499</td>\n",
       "      <td>4</td>\n",
       "      <td>128</td>\n",
       "      <td>Starry Black</td>\n",
       "    </tr>\n",
       "    <tr>\n",
       "      <th>18</th>\n",
       "      <td>OnePlus Nord CE 3 Lite 5G</td>\n",
       "      <td>4.2</td>\n",
       "      <td>60011</td>\n",
       "      <td>15899</td>\n",
       "      <td>8</td>\n",
       "      <td>128</td>\n",
       "      <td>Chromatic Gray</td>\n",
       "    </tr>\n",
       "    <tr>\n",
       "      <th>19</th>\n",
       "      <td>iQOO Z9x 5G</td>\n",
       "      <td>4.2</td>\n",
       "      <td>5541</td>\n",
       "      <td>13499</td>\n",
       "      <td>6</td>\n",
       "      <td>128</td>\n",
       "      <td>Storm Grey</td>\n",
       "    </tr>\n",
       "    <tr>\n",
       "      <th>20</th>\n",
       "      <td>Apple iPhone 13</td>\n",
       "      <td>4.5</td>\n",
       "      <td>32146</td>\n",
       "      <td>43499</td>\n",
       "      <td>6</td>\n",
       "      <td>128</td>\n",
       "      <td>Green</td>\n",
       "    </tr>\n",
       "    <tr>\n",
       "      <th>21</th>\n",
       "      <td>iPhone 16 Pro 1 TB</td>\n",
       "      <td>4.0</td>\n",
       "      <td>89</td>\n",
       "      <td>162900</td>\n",
       "      <td>8</td>\n",
       "      <td>1024</td>\n",
       "      <td>White Titanium</td>\n",
       "    </tr>\n",
       "  </tbody>\n",
       "</table>\n",
       "</div>"
      ],
      "text/plain": [
       "                            Product Name Rating Average Rating   Price RAM GB  \\\n",
       "0                           Redmi A4 5G     4.0            665    8299      4   \n",
       "1   Samsung Galaxy S24 5G AI Smartphone     4.0            468   56499      8   \n",
       "2              OnePlus Nord CE4 Lite 5G     4.1           4087   17998      8   \n",
       "3   Samsung Galaxy M15 5G Prime Edition     3.9           1627   11999      6   \n",
       "4              OnePlus Nord CE4 Lite 5G     4.1           4087   20998      8   \n",
       "5                   realme NARZO 70x 5G     4.1           4452   11498      8   \n",
       "6                   realme NARZO 70x 5G     4.1           4452   13499      6   \n",
       "7            Motorola Edge 50 Fusion 5G     4.1            157   23837     12   \n",
       "8                      Oneplus Nord CE4     4.2           6813   23999      8   \n",
       "9             OnePlus Nord CE 3 Lite 5G     4.2          60011   15499      8   \n",
       "10                      iPhone 16 128 GB    4.4            203   74900      8   \n",
       "11                 iPhone 16 Plus 512 GB    4.3            105  114900      8   \n",
       "12             realme NARZO 70 Turbo 5G     4.2           1949   16998      6   \n",
       "13                        realme 12X 5G     4.2            161   12719      8   \n",
       "14                          Redmi A4 5G     4.0            665    9499      4   \n",
       "15                     realme NARZO N61     4.0           1525    8498      6   \n",
       "16                          OPPO F27 5G     3.6            146   22999      8   \n",
       "17                          Redmi A4 5G     4.0            665    9499      4   \n",
       "18            OnePlus Nord CE 3 Lite 5G     4.2          60011   15899      8   \n",
       "19                          iQOO Z9x 5G     4.2           5541   13499      6   \n",
       "20                      Apple iPhone 13     4.5          32146   43499      6   \n",
       "21                    iPhone 16 Pro 1 TB    4.0             89  162900      8   \n",
       "\n",
       "   Storage GB           Color  \n",
       "0          64    Starry Black  \n",
       "1         256    Amber Yellow  \n",
       "2         128    Super Silver  \n",
       "3         128      Blue Topaz  \n",
       "4         256    Super Silver  \n",
       "5         128        Ice Blue  \n",
       "6         128        Ice Blue  \n",
       "7         256        Hot Pink  \n",
       "8         256     Dark Chrome  \n",
       "9         128     Pastel Lime  \n",
       "10        128           Black  \n",
       "11        512           White  \n",
       "12        128    Turbo Purple  \n",
       "13        128  Woodland Green  \n",
       "14        128  Sparkle Purple  \n",
       "15        128     Voyage Blue  \n",
       "16        256   Emerald Green  \n",
       "17        128    Starry Black  \n",
       "18        128  Chromatic Gray  \n",
       "19        128      Storm Grey  \n",
       "20        128           Green  \n",
       "21       1024  White Titanium  "
      ]
     },
     "execution_count": 86,
     "metadata": {},
     "output_type": "execute_result"
    }
   ],
   "source": [
    "df"
   ]
  },
  {
   "cell_type": "code",
   "execution_count": 87,
   "id": "5f6b8fc4",
   "metadata": {},
   "outputs": [
    {
     "data": {
      "text/plain": [
       "Product Name      object\n",
       "Rating            object\n",
       "Average Rating    object\n",
       "Price             object\n",
       "RAM GB            object\n",
       "Storage GB        object\n",
       "Color             object\n",
       "dtype: object"
      ]
     },
     "execution_count": 87,
     "metadata": {},
     "output_type": "execute_result"
    }
   ],
   "source": [
    "df.dtypes"
   ]
  },
  {
   "cell_type": "code",
   "execution_count": 88,
   "id": "41ac860a",
   "metadata": {},
   "outputs": [],
   "source": [
    "df['Rating']=pd.to_numeric(df['Rating'])\n",
    "df['Average Rating']=pd.to_numeric(df['Average Rating'])\n",
    "df['Price']=pd.to_numeric(df['Price'])\n",
    "df['RAM GB']=pd.to_numeric(df['RAM GB'])\n",
    "df['Storage GB']=pd.to_numeric(df['Storage GB'])"
   ]
  },
  {
   "cell_type": "code",
   "execution_count": 89,
   "id": "47a8462d",
   "metadata": {
    "scrolled": true
   },
   "outputs": [
    {
     "data": {
      "text/plain": [
       "Product Name       object\n",
       "Rating            float64\n",
       "Average Rating      int64\n",
       "Price               int64\n",
       "RAM GB              int64\n",
       "Storage GB          int64\n",
       "Color              object\n",
       "dtype: object"
      ]
     },
     "execution_count": 89,
     "metadata": {},
     "output_type": "execute_result"
    }
   ],
   "source": [
    "df.dtypes"
   ]
  },
  {
   "cell_type": "code",
   "execution_count": 90,
   "id": "8edf9a55",
   "metadata": {},
   "outputs": [],
   "source": [
    "df.rename(columns={'Rating': 'Avg_Rating', 'Average Rating': 'Total_Ratings'}, inplace=True)"
   ]
  },
  {
   "cell_type": "code",
   "execution_count": 91,
   "id": "f57a5465",
   "metadata": {},
   "outputs": [
    {
     "data": {
      "text/html": [
       "<div>\n",
       "<style scoped>\n",
       "    .dataframe tbody tr th:only-of-type {\n",
       "        vertical-align: middle;\n",
       "    }\n",
       "\n",
       "    .dataframe tbody tr th {\n",
       "        vertical-align: top;\n",
       "    }\n",
       "\n",
       "    .dataframe thead th {\n",
       "        text-align: right;\n",
       "    }\n",
       "</style>\n",
       "<table border=\"1\" class=\"dataframe\">\n",
       "  <thead>\n",
       "    <tr style=\"text-align: right;\">\n",
       "      <th></th>\n",
       "      <th>Product Name</th>\n",
       "      <th>Avg_Rating</th>\n",
       "      <th>Total_Ratings</th>\n",
       "      <th>Price</th>\n",
       "      <th>RAM GB</th>\n",
       "      <th>Storage GB</th>\n",
       "      <th>Color</th>\n",
       "    </tr>\n",
       "  </thead>\n",
       "  <tbody>\n",
       "    <tr>\n",
       "      <th>0</th>\n",
       "      <td>Redmi A4 5G</td>\n",
       "      <td>4.0</td>\n",
       "      <td>665</td>\n",
       "      <td>8299</td>\n",
       "      <td>4</td>\n",
       "      <td>64</td>\n",
       "      <td>Starry Black</td>\n",
       "    </tr>\n",
       "    <tr>\n",
       "      <th>1</th>\n",
       "      <td>Samsung Galaxy S24 5G AI Smartphone</td>\n",
       "      <td>4.0</td>\n",
       "      <td>468</td>\n",
       "      <td>56499</td>\n",
       "      <td>8</td>\n",
       "      <td>256</td>\n",
       "      <td>Amber Yellow</td>\n",
       "    </tr>\n",
       "    <tr>\n",
       "      <th>2</th>\n",
       "      <td>OnePlus Nord CE4 Lite 5G</td>\n",
       "      <td>4.1</td>\n",
       "      <td>4087</td>\n",
       "      <td>17998</td>\n",
       "      <td>8</td>\n",
       "      <td>128</td>\n",
       "      <td>Super Silver</td>\n",
       "    </tr>\n",
       "    <tr>\n",
       "      <th>3</th>\n",
       "      <td>Samsung Galaxy M15 5G Prime Edition</td>\n",
       "      <td>3.9</td>\n",
       "      <td>1627</td>\n",
       "      <td>11999</td>\n",
       "      <td>6</td>\n",
       "      <td>128</td>\n",
       "      <td>Blue Topaz</td>\n",
       "    </tr>\n",
       "    <tr>\n",
       "      <th>4</th>\n",
       "      <td>OnePlus Nord CE4 Lite 5G</td>\n",
       "      <td>4.1</td>\n",
       "      <td>4087</td>\n",
       "      <td>20998</td>\n",
       "      <td>8</td>\n",
       "      <td>256</td>\n",
       "      <td>Super Silver</td>\n",
       "    </tr>\n",
       "  </tbody>\n",
       "</table>\n",
       "</div>"
      ],
      "text/plain": [
       "                           Product Name  Avg_Rating  Total_Ratings  Price  \\\n",
       "0                          Redmi A4 5G          4.0            665   8299   \n",
       "1  Samsung Galaxy S24 5G AI Smartphone          4.0            468  56499   \n",
       "2             OnePlus Nord CE4 Lite 5G          4.1           4087  17998   \n",
       "3  Samsung Galaxy M15 5G Prime Edition          3.9           1627  11999   \n",
       "4             OnePlus Nord CE4 Lite 5G          4.1           4087  20998   \n",
       "\n",
       "   RAM GB  Storage GB         Color  \n",
       "0       4          64  Starry Black  \n",
       "1       8         256  Amber Yellow  \n",
       "2       8         128  Super Silver  \n",
       "3       6         128    Blue Topaz  \n",
       "4       8         256  Super Silver  "
      ]
     },
     "execution_count": 91,
     "metadata": {},
     "output_type": "execute_result"
    }
   ],
   "source": [
    "df.head()"
   ]
  },
  {
   "cell_type": "code",
   "execution_count": 92,
   "id": "e658d1ed",
   "metadata": {},
   "outputs": [],
   "source": [
    "# Which products have the highest ratings and why?\n",
    "# What is the price distribution for 5G smartphones?\n",
    "# What is the average price range for products rated above 4.0 stars?\n",
    "# Which brands or models have the best value for money (price vs. rating)?\n",
    "# How are premium brands like Apple and Samsung performing compared to mid-range brands like Redmi and realme?\n",
    "# What is the relationship between RAM/storage combinations and popularity?\n",
    "# How do budget models (e.g., under 20,000) compare to flagship models (above 50,000)?\n",
    "# What factors correlate with lower ratings?"
   ]
  },
  {
   "cell_type": "code",
   "execution_count": 93,
   "id": "54a873dd",
   "metadata": {},
   "outputs": [],
   "source": [
    "import pandas as pd\n",
    "import matplotlib.pyplot as plt\n",
    "import seaborn as sns"
   ]
  },
  {
   "cell_type": "markdown",
   "id": "9c62fa46",
   "metadata": {},
   "source": [
    "### Which product have the highest ratings?"
   ]
  },
  {
   "cell_type": "code",
   "execution_count": 94,
   "id": "024c9d70",
   "metadata": {},
   "outputs": [
    {
     "name": "stdout",
     "output_type": "stream",
     "text": [
      "the product with highest rating is 20    Apple iPhone 13 \n",
      "Name: Product Name, dtype: object\n"
     ]
    }
   ],
   "source": [
    "product_having_highest_rating=df['Product Name'][df['Avg_Rating'] == df['Avg_Rating'].max()]\n",
    "print('the product with highest rating is',product_having_highest_rating)"
   ]
  },
  {
   "cell_type": "code",
   "execution_count": 95,
   "id": "3a60ab97",
   "metadata": {},
   "outputs": [
    {
     "name": "stdout",
     "output_type": "stream",
     "text": [
      "162900\n",
      "8299\n"
     ]
    }
   ],
   "source": [
    "print(df['Price'].max())\n",
    "print(df['Price'].min())"
   ]
  },
  {
   "cell_type": "markdown",
   "id": "d0620fa1",
   "metadata": {},
   "source": [
    "### What is the price distribution for 5G smartphones?"
   ]
  },
  {
   "cell_type": "code",
   "execution_count": 96,
   "id": "426a9f5b",
   "metadata": {},
   "outputs": [],
   "source": [
    "df['Price_Range']=pd.cut(df['Price'],bins=[0,20000,40000,60000,80000,100000,120000,140000,160000,float('inf')],\n",
    "                           labels=['0-20k','20k-40k','40k-60k','60k-80k','80k-1L','1L-1.2L','1.2L-1.4L','1.4L-1.6L','1.6L+'])"
   ]
  },
  {
   "cell_type": "code",
   "execution_count": 97,
   "id": "5c221a40",
   "metadata": {},
   "outputs": [
    {
     "name": "stdout",
     "output_type": "stream",
     "text": [
      "Price_Range\n",
      "0-20k        13\n",
      "20k-40k       4\n",
      "40k-60k       2\n",
      "60k-80k       1\n",
      "80k-1L        0\n",
      "1L-1.2L       1\n",
      "1.2L-1.4L     0\n",
      "1.4L-1.6L     0\n",
      "1.6L+         1\n",
      "Name: count, dtype: int64\n"
     ]
    },
    {
     "data": {
      "text/plain": [
       "<Axes: xlabel='Price_Range'>"
      ]
     },
     "execution_count": 97,
     "metadata": {},
     "output_type": "execute_result"
    },
    {
     "data": {
      "image/png": "[encoded data removed]",
      "text/plain": [
       "<Figure size 640x480 with 1 Axes>"
      ]
     },
     "metadata": {},
     "output_type": "display_data"
    }
   ],
   "source": [
    "price_dist=df['Price_Range'].value_counts(sort=False)\n",
    "print(price_dist)\n",
    "price_dist.plot(kind='bar')"
   ]
  },
  {
   "cell_type": "markdown",
   "id": "8a11cb1f",
   "metadata": {},
   "source": [
    "### What is the average price range for products rated above 4.0 stars?"
   ]
  },
  {
   "cell_type": "code",
   "execution_count": 98,
   "id": "9aad8ed9",
   "metadata": {},
   "outputs": [
    {
     "name": "stdout",
     "output_type": "stream",
     "text": [
      "The average price range for products rated above 4.0 stars is: 29981.57 ₹\n"
     ]
    }
   ],
   "source": [
    "high_rated_products = df[df[\"Avg_Rating\"] > 4.0][\"Price\"].mean()\n",
    "\n",
    "# average_price = high_rated_products[\"Price\"].mean()\n",
    "\n",
    "print(f\"The average price range for products rated above 4.0 stars is: {high_rated_products:.2f} ₹\")\n"
   ]
  },
  {
   "cell_type": "code",
   "execution_count": 99,
   "id": "33e4e826-bf06-4dfe-8e7d-7dac93946dd9",
   "metadata": {},
   "outputs": [
    {
     "name": "stdout",
     "output_type": "stream",
     "text": [
      "The average price range for products rated below 4.0 stars is: 17499.00 ₹\n"
     ]
    }
   ],
   "source": [
    "Low_rated_products = df[df[\"Avg_Rating\"] < 4.0][\"Price\"].mean()\n",
    "print(f\"The average price range for products rated below 4.0 stars is: {Low_rated_products:.2f} ₹\")"
   ]
  },
  {
   "cell_type": "code",
   "execution_count": 100,
   "id": "88d701b8-4ef9-45d8-8211-207084e1ccc2",
   "metadata": {},
   "outputs": [
    {
     "data": {
      "image/png": "[encoded data removed]",
      "text/plain": [
       "<Figure size 800x500 with 1 Axes>"
      ]
     },
     "metadata": {},
     "output_type": "display_data"
    }
   ],
   "source": [
    "categories = ['Above 4.0 Stars', 'Below 4.0 Stars']\n",
    "average_prices = [high_rated_products, Low_rated_products]\n",
    "plt.figure(figsize=(8, 5))\n",
    "plt.bar(categories, average_prices, color=['green', 'red'], alpha=0.7)\n",
    "plt.title('Average Price of Products by Rating Category', fontsize=14)\n",
    "plt.ylabel('Average Price (₹)', fontsize=12)\n",
    "plt.xlabel('Rating Category', fontsize=12)\n",
    "plt.tight_layout()\n",
    "plt.show()\n"
   ]
  },
  {
   "cell_type": "markdown",
   "id": "ad056f52",
   "metadata": {},
   "source": [
    "###  Which brands or models have the best value for money (price vs. rating)?"
   ]
  },
  {
   "cell_type": "code",
   "execution_count": 101,
   "id": "81cff6c6",
   "metadata": {},
   "outputs": [],
   "source": [
    "# Explanation:\n",
    "# Higher Rating, Lower Price: A higher rating means better quality, and a lower price means a cheaper cost. By dividing the rating by the price, we get a ratio that tells us how much \"quality\" (represented by the rating) we are getting for each unit of currency (price).\n",
    "# This means that for every 1 INR you spend, you are getting a rating of 0.000482 stars. The higher the score, the better the value for money.\n",
    "\n",
    "# Interpretation:\n",
    "# If a product has a higher Value-for-Money score, it means you're getting more quality (rating) for the price you're paying.\n",
    "# If the score is low, it means you're paying more for less quality.\n",
    "df[\"Value_For_Money\"] = df[\"Avg_Rating\"] / df[\"Price\"]"
   ]
  },
  {
   "cell_type": "code",
   "execution_count": 102,
   "id": "ae3c8f54",
   "metadata": {},
   "outputs": [
    {
     "name": "stdout",
     "output_type": "stream",
     "text": [
      "Top 5 products offering the best value for money:\n"
     ]
    },
    {
     "data": {
      "text/html": [
       "<div>\n",
       "<style scoped>\n",
       "    .dataframe tbody tr th:only-of-type {\n",
       "        vertical-align: middle;\n",
       "    }\n",
       "\n",
       "    .dataframe tbody tr th {\n",
       "        vertical-align: top;\n",
       "    }\n",
       "\n",
       "    .dataframe thead th {\n",
       "        text-align: right;\n",
       "    }\n",
       "</style>\n",
       "<table border=\"1\" class=\"dataframe\">\n",
       "  <thead>\n",
       "    <tr style=\"text-align: right;\">\n",
       "      <th></th>\n",
       "      <th>Product Name</th>\n",
       "      <th>Price</th>\n",
       "      <th>Avg_Rating</th>\n",
       "      <th>Value_For_Money</th>\n",
       "    </tr>\n",
       "  </thead>\n",
       "  <tbody>\n",
       "    <tr>\n",
       "      <th>0</th>\n",
       "      <td>Redmi A4 5G</td>\n",
       "      <td>8299</td>\n",
       "      <td>4.0</td>\n",
       "      <td>0.000482</td>\n",
       "    </tr>\n",
       "    <tr>\n",
       "      <th>1</th>\n",
       "      <td>realme NARZO N61</td>\n",
       "      <td>8498</td>\n",
       "      <td>4.0</td>\n",
       "      <td>0.000471</td>\n",
       "    </tr>\n",
       "    <tr>\n",
       "      <th>2</th>\n",
       "      <td>Redmi A4 5G</td>\n",
       "      <td>9499</td>\n",
       "      <td>4.0</td>\n",
       "      <td>0.000421</td>\n",
       "    </tr>\n",
       "    <tr>\n",
       "      <th>3</th>\n",
       "      <td>Redmi A4 5G</td>\n",
       "      <td>9499</td>\n",
       "      <td>4.0</td>\n",
       "      <td>0.000421</td>\n",
       "    </tr>\n",
       "    <tr>\n",
       "      <th>4</th>\n",
       "      <td>realme NARZO 70x 5G</td>\n",
       "      <td>11498</td>\n",
       "      <td>4.1</td>\n",
       "      <td>0.000357</td>\n",
       "    </tr>\n",
       "  </tbody>\n",
       "</table>\n",
       "</div>"
      ],
      "text/plain": [
       "           Product Name  Price  Avg_Rating  Value_For_Money\n",
       "0          Redmi A4 5G    8299         4.0         0.000482\n",
       "1     realme NARZO N61    8498         4.0         0.000471\n",
       "2          Redmi A4 5G    9499         4.0         0.000421\n",
       "3          Redmi A4 5G    9499         4.0         0.000421\n",
       "4  realme NARZO 70x 5G   11498         4.1         0.000357"
      ]
     },
     "execution_count": 102,
     "metadata": {},
     "output_type": "execute_result"
    }
   ],
   "source": [
    "df_sorted = df.sort_values(by=\"Value_For_Money\", ascending=False)\n",
    "\n",
    "top_value_for_money = df_sorted.head(5)\n",
    "\n",
    "print(\"Top 5 products offering the best value for money:\")\n",
    "top_value_for_money[[\"Product Name\", \"Price\", \"Avg_Rating\", \"Value_For_Money\"]].reset_index(drop=True)"
   ]
  },
  {
   "cell_type": "markdown",
   "id": "3e0ccc85",
   "metadata": {},
   "source": [
    "### What is the relationship between RAM/storage combinations and popularity?"
   ]
  },
  {
   "cell_type": "code",
   "execution_count": 103,
   "id": "a710969c",
   "metadata": {},
   "outputs": [
    {
     "data": {
      "image/png": "[encoded data removed]",
      "text/plain": [
       "<Figure size 640x480 with 1 Axes>"
      ]
     },
     "metadata": {},
     "output_type": "display_data"
    }
   ],
   "source": [
    "sns.scatterplot(x='Storage GB', y='RAM GB', size='Total_Ratings', hue='Avg_Rating',\n",
    "                data=df, palette='coolwarm', sizes=(20, 200), legend=False)\n",
    "\n",
    "plt.title('Relationship Between RAM/Storage Combinations and Popularity', fontsize=16)\n",
    "plt.xlabel('Storage (GB)', fontsize=12)\n",
    "plt.ylabel('RAM (GB)', fontsize=12)\n",
    "# plt.colorbar(label='Average Rating')\n",
    "plt.grid(True)\n",
    "plt.show()"
   ]
  },
  {
   "cell_type": "markdown",
   "id": "15a4fe9c",
   "metadata": {},
   "source": [
    "### How do budget models (e.g., under 20,000) compare to flagship models (above 50,000)?"
   ]
  },
  {
   "cell_type": "code",
   "execution_count": 104,
   "id": "a74da6fe",
   "metadata": {},
   "outputs": [
    {
     "name": "stdout",
     "output_type": "stream",
     "text": [
      "   Category  Avg_Rating  Total_Ratings      Avg_Price  Avg_Value_For_Money\n",
      "0    Budget    4.092308         145811   12723.307692             0.000341\n",
      "1  Flagship    4.175000            865  102299.750000             0.000048\n"
     ]
    },
    {
     "data": {
      "image/png": "[encoded data removed]",
      "text/plain": [
       "<Figure size 1200x1000 with 4 Axes>"
      ]
     },
     "metadata": {},
     "output_type": "display_data"
    }
   ],
   "source": [
    "# Categorize models based on price\n",
    "df['Category'] = df['Price'].apply(lambda x: 'Budget' if x < 20000 else ('Flagship' if x > 50000 else 'Mid-Range'))\n",
    "\n",
    "# Filter only Budget and Flagship models for the analysis\n",
    "filtered_df = df[df['Category'].isin(['Budget', 'Flagship'])]\n",
    "\n",
    "# Group by category and calculate metrics\n",
    "category_comparison = filtered_df.groupby('Category').agg(\n",
    "    Avg_Rating=('Avg_Rating', 'mean'),\n",
    "    Total_Ratings=('Total_Ratings', 'sum'),  # Total number of ratings/reviews\n",
    "    Avg_Price=('Price', 'mean'),\n",
    "    Avg_Value_For_Money=('Value_For_Money', 'mean')\n",
    ").reset_index()\n",
    "\n",
    "# Display the comparison\n",
    "print(category_comparison)\n",
    "\n",
    "# Plot the comparison\n",
    "fig, axes = plt.subplots(2, 2, figsize=(12, 10))\n",
    "category_comparison.plot(x='Category', y='Avg_Rating', kind='bar', ax=axes[0, 0], color='skyblue', legend=False, title='Average Rating')\n",
    "category_comparison.plot(x='Category', y='Total_Ratings', kind='bar', ax=axes[0, 1], color='orange', legend=False, title='Total Ratings')\n",
    "category_comparison.plot(x='Category', y='Avg_Price', kind='bar', ax=axes[1, 0], color='green', legend=False, title='Average Price')\n",
    "category_comparison.plot(x='Category', y='Avg_Value_For_Money', kind='bar', ax=axes[1, 1], color='purple', legend=False, title='Value-for-Money')\n",
    "\n",
    "plt.tight_layout()\n",
    "plt.show()\n"
   ]
  },
  {
   "cell_type": "code",
   "execution_count": null,
   "id": "ec2ef6d7-98b6-49fb-88c0-1b099fdb4053",
   "metadata": {},
   "outputs": [],
   "source": []
  }
 ],
 "metadata": {
  "kernelspec": {
   "display_name": "Python 3 (ipykernel)",
   "language": "python",
   "name": "python3"
  },
  "language_info": {
   "codemirror_mode": {
    "name": "ipython",
    "version": 3
   },
   "file_extension": ".py",
   "mimetype": "text/x-python",
   "name": "python",
   "nbconvert_exporter": "python",
   "pygments_lexer": "ipython3",
   "version": "3.10.9"
  }
 },
 "nbformat": 4,
 "nbformat_minor": 5
}
